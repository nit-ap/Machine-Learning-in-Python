{
 "cells": [
  {
   "cell_type": "markdown",
   "metadata": {},
   "source": [
    "# Text Classification and Naive Bayes Classifier"
   ]
  },
  {
   "cell_type": "code",
   "execution_count": 2,
   "metadata": {},
   "outputs": [],
   "source": [
    "import pandas as ps\n",
    "import numpy as np\n",
    "import seaborn as sb\n",
    "import matplotlib.pyplot as plt\n",
    "import warnings\n",
    "warnings.filterwarnings(\"ignore\")"
   ]
  },
  {
   "cell_type": "code",
   "execution_count": 3,
   "metadata": {},
   "outputs": [],
   "source": [
    "from sklearn.datasets import fetch_20newsgroups"
   ]
  },
  {
   "cell_type": "code",
   "execution_count": 6,
   "metadata": {},
   "outputs": [],
   "source": [
    "#help(fetch_20newsgroups)"
   ]
  },
  {
   "cell_type": "code",
   "execution_count": 4,
   "metadata": {},
   "outputs": [],
   "source": [
    "train=fetch_20newsgroups(data_home='.', subset='train')"
   ]
  },
  {
   "cell_type": "code",
   "execution_count": 5,
   "metadata": {},
   "outputs": [],
   "source": [
    "test=fetch_20newsgroups(data_home='.', subset='test')"
   ]
  },
  {
   "cell_type": "code",
   "execution_count": 12,
   "metadata": {},
   "outputs": [
    {
     "data": {
      "text/plain": [
       "(dict_keys(['data', 'filenames', 'target_names', 'target', 'DESCR']),\n",
       " dict_keys(['data', 'filenames', 'target_names', 'target', 'DESCR']))"
      ]
     },
     "execution_count": 12,
     "metadata": {},
     "output_type": "execute_result"
    }
   ],
   "source": [
    "train.keys(),test.keys()"
   ]
  },
  {
   "cell_type": "markdown",
   "metadata": {},
   "source": [
    "There are 5 keys in the train object:\n",
    "\n",
    "data: List of text messages\n",
    "filenames: List of file names, for each message in data, there's a corresponding file name. This is normally not needed in classification.\n",
    "target: Numeric code for the 20 news groups, from 0 to 19. Each message has a corresponding target, that is used as label or class in classification.\n",
    "target_names: String, name of the 20 targets.\n",
    "DESCR: Description of the dataset.\n"
   ]
  },
  {
   "cell_type": "code",
   "execution_count": 19,
   "metadata": {},
   "outputs": [
    {
     "data": {
      "text/plain": [
       "(11314, 7532)"
      ]
     },
     "execution_count": 19,
     "metadata": {},
     "output_type": "execute_result"
    }
   ],
   "source": [
    "len(train['data']),len(test['data'])"
   ]
  },
  {
   "cell_type": "code",
   "execution_count": 20,
   "metadata": {},
   "outputs": [
    {
     "name": "stdout",
     "output_type": "stream",
     "text": [
      "Class 0=alt.atheism\n",
      "Class 1=comp.graphics\n",
      "Class 2=comp.os.ms-windows.misc\n",
      "Class 3=comp.sys.ibm.pc.hardware\n",
      "Class 4=comp.sys.mac.hardware\n",
      "Class 5=comp.windows.x\n",
      "Class 6=misc.forsale\n",
      "Class 7=rec.autos\n",
      "Class 8=rec.motorcycles\n",
      "Class 9=rec.sport.baseball\n",
      "Class10=rec.sport.hockey\n",
      "Class11=sci.crypt\n",
      "Class12=sci.electronics\n",
      "Class13=sci.med\n",
      "Class14=sci.space\n",
      "Class15=soc.religion.christian\n",
      "Class16=talk.politics.guns\n",
      "Class17=talk.politics.mideast\n",
      "Class18=talk.politics.misc\n",
      "Class19=talk.religion.misc\n"
     ]
    }
   ],
   "source": [
    "for i ,label in enumerate(train['target_names']):\n",
    "    print(f'Class{i:2d}={label}')"
   ]
  },
  {
   "cell_type": "markdown",
   "metadata": {},
   "source": [
    "# Printing a random message"
   ]
  },
  {
   "cell_type": "code",
   "execution_count": 28,
   "metadata": {},
   "outputs": [
    {
     "name": "stdout",
     "output_type": "stream",
     "text": [
      "Class number=0\n",
      "Class name=alt.atheism\n",
      "\n",
      "From: keith@cco.caltech.edu (Keith Allan Schneider)\n",
      "Subject: Re: <<Pompous ass\n",
      "Organization: California Institute of Technology, Pasadena\n",
      "Lines: 16\n",
      "NNTP-Posting-Host: punisher.caltech.edu\n",
      "\n",
      "livesey@solntze.wpd.sgi.com (Jon Livesey) writes:\n",
      "\n",
      "[...]\n",
      ">>The \"`little' things\" above were in reference to Germany, clearly.  People\n",
      ">>said that there were similar things in Germany, but no one could name any.\n",
      ">That's not true.  I gave you two examples.  One was the rather\n",
      ">pevasive anti-semitism in German Christianity well before Hitler\n",
      ">arrived.  The other was the system of social ranks that were used\n",
      ">in Imperail Germany and Austria to distinguish Jews from the rest \n",
      ">of the population.\n",
      "\n",
      "These don't seem like \"little things\" to me.  At least, they are orders\n",
      "worse than the motto.  Do you think that the motto is a \"little thing\"\n",
      "that will lead to worse things?\n",
      "\n",
      "keith\n",
      "\n"
     ]
    }
   ],
   "source": [
    "#From training set\n",
    "item_num=20\n",
    "class_num=train['target'][item_num]\n",
    "print(f'Class number={class_num}')\n",
    "print(f'Class name={train[\"target_names\"][class_num]}')\n",
    "print()\n",
    "print(train['data'][item_num])"
   ]
  },
  {
   "cell_type": "code",
   "execution_count": 32,
   "metadata": {},
   "outputs": [
    {
     "name": "stdout",
     "output_type": "stream",
     "text": [
      "Class Number = 0\n",
      "Class Name = alt.atheism\n",
      "From: mathew <mathew@mantis.co.uk>\n",
      "Subject: Re: STRONG & weak Atheism\n",
      "Organization: Mantis Consultants, Cambridge. UK.\n",
      "X-Newsreader: rusnews v1.02\n",
      "Lines: 9\n",
      "\n",
      "acooper@mac.cc.macalstr.edu (Turin Turambar, ME Department of Utter Misery) writes:\n",
      "> Did that FAQ ever got modified to re-define strong atheists as not those who\n",
      "> assert the nonexistence of God, but as those who assert that they BELIEVE in \n",
      "> the nonexistence of God?\n",
      "\n",
      "In a word, yes.\n",
      "\n",
      "\n",
      "mathew\n",
      "\n"
     ]
    }
   ],
   "source": [
    "#From Testing set\n",
    "test_message = 2\n",
    "class_num = test['target'][test_message]\n",
    "print(f'Class Number = {class_num}')\n",
    "print(f'Class Name = {test[\"target_names\"][class_num]}')\n",
    "print(test['data'][test_message])"
   ]
  },
  {
   "cell_type": "markdown",
   "metadata": {},
   "source": [
    "# Naive Bayes Classifier"
   ]
  },
  {
   "cell_type": "markdown",
   "metadata": {},
   "source": [
    "## 1)Using Count vectorizer for making DTM"
   ]
  },
  {
   "cell_type": "code",
   "execution_count": 6,
   "metadata": {},
   "outputs": [
    {
     "name": "stdout",
     "output_type": "stream",
     "text": [
      "Acurracy of the model is : 80.23101433882103\n"
     ]
    }
   ],
   "source": [
    "from sklearn.feature_extraction.text import CountVectorizer\n",
    "from sklearn.naive_bayes import MultinomialNB\n",
    "\n",
    "#make the DTM\n",
    "cv=CountVectorizer(stop_words='english')\n",
    "train_dtm=cv.fit_transform(train['data'])\n",
    "test_dtm=cv.transform(test['data'])\n",
    "\n",
    "#Fit the model\n",
    "nb=MultinomialNB()\n",
    "nb=nb.fit(train_dtm,train['target'])\n",
    "\n",
    "\n",
    "predicted = nb.predict(test_dtm)\n",
    "score=100.0 * nb.score(test_dtm,test['target'])\n",
    "print('Acurracy of the model is :',score)\n"
   ]
  },
  {
   "cell_type": "code",
   "execution_count": 52,
   "metadata": {},
   "outputs": [
    {
     "name": "stdout",
     "output_type": "stream",
     "text": [
      "                          precision    recall  f1-score   support\n",
      "\n",
      "             alt.atheism       0.80      0.81      0.80       319\n",
      "           comp.graphics       0.65      0.80      0.72       389\n",
      " comp.os.ms-windows.misc       0.80      0.04      0.08       394\n",
      "comp.sys.ibm.pc.hardware       0.55      0.80      0.65       392\n",
      "   comp.sys.mac.hardware       0.85      0.79      0.82       385\n",
      "          comp.windows.x       0.69      0.84      0.76       395\n",
      "            misc.forsale       0.89      0.74      0.81       390\n",
      "               rec.autos       0.89      0.92      0.91       396\n",
      "         rec.motorcycles       0.95      0.94      0.95       398\n",
      "      rec.sport.baseball       0.95      0.92      0.93       397\n",
      "        rec.sport.hockey       0.92      0.97      0.94       399\n",
      "               sci.crypt       0.80      0.96      0.87       396\n",
      "         sci.electronics       0.79      0.70      0.74       393\n",
      "                 sci.med       0.88      0.87      0.87       396\n",
      "               sci.space       0.84      0.92      0.88       394\n",
      "  soc.religion.christian       0.81      0.95      0.87       398\n",
      "      talk.politics.guns       0.72      0.93      0.81       364\n",
      "   talk.politics.mideast       0.93      0.94      0.94       376\n",
      "      talk.politics.misc       0.68      0.62      0.65       310\n",
      "      talk.religion.misc       0.88      0.44      0.59       251\n",
      "\n",
      "               micro avg       0.80      0.80      0.80      7532\n",
      "               macro avg       0.81      0.79      0.78      7532\n",
      "            weighted avg       0.81      0.80      0.78      7532\n",
      "\n"
     ]
    }
   ],
   "source": [
    "#Classification Report\n",
    "from sklearn import metrics\n",
    "print(metrics.classification_report(test['target'],predicted,target_names=test['target_names']))"
   ]
  },
  {
   "cell_type": "code",
   "execution_count": 7,
   "metadata": {},
   "outputs": [
    {
     "ename": "ModuleNotFoundError",
     "evalue": "No module named 'mlplots'",
     "output_type": "error",
     "traceback": [
      "\u001b[1;31m---------------------------------------------------------------------------\u001b[0m",
      "\u001b[1;31mModuleNotFoundError\u001b[0m                       Traceback (most recent call last)",
      "\u001b[1;32m<ipython-input-7-24f7a0c8e4a2>\u001b[0m in \u001b[0;36m<module>\u001b[1;34m\u001b[0m\n\u001b[0;32m      1\u001b[0m \u001b[1;31m#Confusion Matrix\u001b[0m\u001b[1;33m\u001b[0m\u001b[1;33m\u001b[0m\u001b[1;33m\u001b[0m\u001b[0m\n\u001b[1;32m----> 2\u001b[1;33m \u001b[1;32mimport\u001b[0m \u001b[0mmlplots\u001b[0m \u001b[1;32mas\u001b[0m \u001b[0mml\u001b[0m\u001b[1;33m\u001b[0m\u001b[1;33m\u001b[0m\u001b[0m\n\u001b[0m\u001b[0;32m      3\u001b[0m \u001b[1;33m\u001b[0m\u001b[0m\n\u001b[0;32m      4\u001b[0m \u001b[0mfig\u001b[0m\u001b[1;33m,\u001b[0m \u001b[0max\u001b[0m \u001b[1;33m=\u001b[0m \u001b[0mplt\u001b[0m\u001b[1;33m.\u001b[0m\u001b[0msubplots\u001b[0m\u001b[1;33m(\u001b[0m\u001b[0mfigsize\u001b[0m\u001b[1;33m=\u001b[0m\u001b[1;33m(\u001b[0m\u001b[1;36m13\u001b[0m\u001b[1;33m,\u001b[0m \u001b[1;36m10\u001b[0m\u001b[1;33m)\u001b[0m\u001b[1;33m)\u001b[0m\u001b[1;33m\u001b[0m\u001b[1;33m\u001b[0m\u001b[0m\n\u001b[0;32m      5\u001b[0m \u001b[1;31m# Call confusion matrix plotting routine\u001b[0m\u001b[1;33m\u001b[0m\u001b[1;33m\u001b[0m\u001b[1;33m\u001b[0m\u001b[0m\n",
      "\u001b[1;31mModuleNotFoundError\u001b[0m: No module named 'mlplots'"
     ]
    }
   ],
   "source": [
    "#Confusion Matrix\n",
    "import mlplots as ml\n",
    "\n",
    "fig, ax = plt.subplots(figsize=(13, 10))\n",
    "# Call confusion matrix plotting routine\n",
    "ml.confusion(test['target'], predicted, test['target_names'], 'Naive Bayes Model')"
   ]
  },
  {
   "cell_type": "code",
   "execution_count": 8,
   "metadata": {},
   "outputs": [
    {
     "ename": "InvalidArgument",
     "evalue": "y_true must contain only values of 0 or 1",
     "output_type": "error",
     "traceback": [
      "\u001b[1;31m---------------------------------------------------------------------------\u001b[0m",
      "\u001b[1;31mInvalidArgument\u001b[0m                           Traceback (most recent call last)",
      "\u001b[1;32m<ipython-input-8-71f407853b00>\u001b[0m in \u001b[0;36m<module>\u001b[1;34m\u001b[0m\n\u001b[0;32m      1\u001b[0m \u001b[1;32mfrom\u001b[0m \u001b[0mmlplot\u001b[0m\u001b[1;33m.\u001b[0m\u001b[0mevaluation\u001b[0m \u001b[1;32mimport\u001b[0m \u001b[0mClassificationEvaluation\u001b[0m\u001b[1;33m\u001b[0m\u001b[1;33m\u001b[0m\u001b[0m\n\u001b[1;32m----> 2\u001b[1;33m \u001b[0meval\u001b[0m \u001b[1;33m=\u001b[0m \u001b[0mClassificationEvaluation\u001b[0m\u001b[1;33m(\u001b[0m\u001b[0mtest\u001b[0m\u001b[1;33m[\u001b[0m\u001b[1;34m'target'\u001b[0m\u001b[1;33m]\u001b[0m\u001b[1;33m,\u001b[0m \u001b[0mpredicted\u001b[0m\u001b[1;33m,\u001b[0m\u001b[0mtest\u001b[0m\u001b[1;33m[\u001b[0m\u001b[1;34m'target_names'\u001b[0m\u001b[1;33m]\u001b[0m\u001b[1;33m,\u001b[0m\u001b[1;34m'Naive Bayes'\u001b[0m\u001b[1;33m)\u001b[0m\u001b[1;33m\u001b[0m\u001b[1;33m\u001b[0m\u001b[0m\n\u001b[0m\u001b[0;32m      3\u001b[0m \u001b[0meval\u001b[0m\u001b[1;33m.\u001b[0m\u001b[0mconfusion_matrix\u001b[0m\u001b[1;33m(\u001b[0m\u001b[0mthreshold\u001b[0m\u001b[1;33m=\u001b[0m\u001b[1;36m0.5\u001b[0m\u001b[1;33m)\u001b[0m\u001b[1;33m\u001b[0m\u001b[1;33m\u001b[0m\u001b[0m\n\u001b[0;32m      4\u001b[0m \u001b[1;33m\u001b[0m\u001b[0m\n\u001b[0;32m      5\u001b[0m \u001b[1;31m#confusion matrix\u001b[0m\u001b[1;33m\u001b[0m\u001b[1;33m\u001b[0m\u001b[1;33m\u001b[0m\u001b[0m\n",
      "\u001b[1;32m~\\Documents\\New folder\\lib\\site-packages\\mlplot\\evaluation\\classification.py\u001b[0m in \u001b[0;36m__init__\u001b[1;34m(self, y_true, y_pred, class_names, model_name)\u001b[0m\n\u001b[0;32m     30\u001b[0m         \u001b[0mtrue_values\u001b[0m \u001b[1;33m=\u001b[0m \u001b[0mnp\u001b[0m\u001b[1;33m.\u001b[0m\u001b[0msort\u001b[0m\u001b[1;33m(\u001b[0m\u001b[0mnp\u001b[0m\u001b[1;33m.\u001b[0m\u001b[0munique\u001b[0m\u001b[1;33m(\u001b[0m\u001b[0mself\u001b[0m\u001b[1;33m.\u001b[0m\u001b[0my_true\u001b[0m\u001b[1;33m)\u001b[0m\u001b[1;33m)\u001b[0m\u001b[1;33m\u001b[0m\u001b[1;33m\u001b[0m\u001b[0m\n\u001b[0;32m     31\u001b[0m         \u001b[1;32mif\u001b[0m \u001b[0mlen\u001b[0m\u001b[1;33m(\u001b[0m\u001b[0mtrue_values\u001b[0m\u001b[1;33m)\u001b[0m \u001b[1;33m!=\u001b[0m \u001b[1;36m2\u001b[0m \u001b[1;32mor\u001b[0m \u001b[1;32mnot\u001b[0m \u001b[0mnp\u001b[0m\u001b[1;33m.\u001b[0m\u001b[0mequal\u001b[0m\u001b[1;33m(\u001b[0m\u001b[0mtrue_values\u001b[0m\u001b[1;33m,\u001b[0m \u001b[0mnp\u001b[0m\u001b[1;33m.\u001b[0m\u001b[0marray\u001b[0m\u001b[1;33m(\u001b[0m\u001b[1;33m[\u001b[0m\u001b[1;36m0\u001b[0m\u001b[1;33m,\u001b[0m \u001b[1;36m1\u001b[0m\u001b[1;33m]\u001b[0m\u001b[1;33m)\u001b[0m\u001b[1;33m)\u001b[0m\u001b[1;33m.\u001b[0m\u001b[0mall\u001b[0m\u001b[1;33m(\u001b[0m\u001b[1;33m)\u001b[0m\u001b[1;33m:\u001b[0m\u001b[1;33m\u001b[0m\u001b[1;33m\u001b[0m\u001b[0m\n\u001b[1;32m---> 32\u001b[1;33m             \u001b[1;32mraise\u001b[0m \u001b[0mInvalidArgument\u001b[0m\u001b[1;33m(\u001b[0m\u001b[1;34m'y_true must contain only values of 0 or 1'\u001b[0m\u001b[1;33m)\u001b[0m\u001b[1;33m\u001b[0m\u001b[1;33m\u001b[0m\u001b[0m\n\u001b[0m\u001b[0;32m     33\u001b[0m \u001b[1;33m\u001b[0m\u001b[0m\n\u001b[0;32m     34\u001b[0m         \u001b[1;31m# Check y_pred values\u001b[0m\u001b[1;33m\u001b[0m\u001b[1;33m\u001b[0m\u001b[1;33m\u001b[0m\u001b[0m\n",
      "\u001b[1;31mInvalidArgument\u001b[0m: y_true must contain only values of 0 or 1"
     ]
    }
   ],
   "source": [
    "from mlplot.evaluation import ClassificationEvaluation\n",
    "eval = ClassificationEvaluation(test['target'], predicted,test['target_names'],'Naive Bayes')\n",
    "eval.confusion_matrix(threshold=0.5)\n",
    "\n",
    "#confusion matrix"
   ]
  }
 ],
 "metadata": {
  "kernelspec": {
   "display_name": "Python 3",
   "language": "python",
   "name": "python3"
  },
  "language_info": {
   "codemirror_mode": {
    "name": "ipython",
    "version": 3
   },
   "file_extension": ".py",
   "mimetype": "text/x-python",
   "name": "python",
   "nbconvert_exporter": "python",
   "pygments_lexer": "ipython3",
   "version": "3.7.1"
  }
 },
 "nbformat": 4,
 "nbformat_minor": 2
}
