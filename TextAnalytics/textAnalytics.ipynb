{
 "cells": [
  {
   "cell_type": "markdown",
   "metadata": {},
   "source": [
    "# An Introduction to Text Analytics"
   ]
  },
  {
   "cell_type": "code",
   "execution_count": 1,
   "metadata": {},
   "outputs": [],
   "source": [
    "import pandas as pd\n",
    "import numpy as np"
   ]
  },
  {
   "cell_type": "markdown",
   "metadata": {},
   "source": [
    "## Getting Text"
   ]
  },
  {
   "cell_type": "code",
   "execution_count": 2,
   "metadata": {},
   "outputs": [
    {
     "name": "stdout",
     "output_type": "stream",
     "text": [
      "Machine Learning is a technique of parsing data, learn from that data and then \n",
      "apply what is learned to make an informed decision. Machine learning focuses on \n",
      "designing algorithms that can learn from and make predictions on the data. \n",
      "The learning can be supervised or unsupervised.\n",
      "\n"
     ]
    }
   ],
   "source": [
    "text=\"\"\"Machine Learning is a technique of parsing data, learn from that data and then \n",
    "apply what is learned to make an informed decision. Machine learning focuses on \n",
    "designing algorithms that can learn from and make predictions on the data. \n",
    "The learning can be supervised or unsupervised.\n",
    "\"\"\"\n",
    "print(text)"
   ]
  },
  {
   "cell_type": "markdown",
   "metadata": {},
   "source": [
    "## Tokenization"
   ]
  },
  {
   "cell_type": "code",
   "execution_count": 7,
   "metadata": {},
   "outputs": [
    {
     "name": "stdout",
     "output_type": "stream",
     "text": [
      "['Machine', 'Learning', 'is', 'a', 'technique', 'of', 'parsing', 'data,', 'learn', 'from', 'that', 'data', 'and', 'then', 'apply', 'what', 'is', 'learned', 'to', 'make', 'an', 'informed', 'decision.', 'Machine', 'learning', 'focuses', 'on', 'designing', 'algorithms', 'that', 'can', 'learn', 'from', 'and', 'make', 'predictions', 'on', 'the', 'data.', 'The', 'learning', 'can', 'be', 'supervised', 'or', 'unsupervised.']\n",
      "\n",
      "Counter({'Machine': 2, 'is': 2, 'learn': 2, 'from': 2, 'that': 2, 'and': 2, 'make': 2, 'learning': 2, 'on': 2, 'can': 2, 'Learning': 1, 'a': 1, 'technique': 1, 'of': 1, 'parsing': 1, 'data,': 1, 'data': 1, 'then': 1, 'apply': 1, 'what': 1, 'learned': 1, 'to': 1, 'an': 1, 'informed': 1, 'decision.': 1, 'focuses': 1, 'designing': 1, 'algorithms': 1, 'predictions': 1, 'the': 1, 'data.': 1, 'The': 1, 'be': 1, 'supervised': 1, 'or': 1, 'unsupervised.': 1})\n",
      "\n",
      "[('Machine', 2), ('is', 2), ('learn', 2), ('from', 2), ('that', 2), ('and', 2), ('make', 2), ('learning', 2), ('on', 2), ('can', 2)]\n"
     ]
    }
   ],
   "source": [
    "import collections as cl\n",
    "words=text.split()\n",
    "print(words) \n",
    "print()\n",
    "#Getting word count\n",
    "wc=cl.Counter(words)\n",
    "print(wc)\n",
    "print()\n",
    "#getting the most common words\n",
    "print(wc.most_common(10))"
   ]
  },
  {
   "cell_type": "markdown",
   "metadata": {},
   "source": [
    "## Remove Special Characters"
   ]
  },
  {
   "cell_type": "code",
   "execution_count": 11,
   "metadata": {},
   "outputs": [
    {
     "name": "stdout",
     "output_type": "stream",
     "text": [
      "Machine Learning is a technique of parsing data  learn from that data and then  apply what is learned to make an informed decision  Machine learning focuses on  designing algorithms that can learn from and make predictions on the data   The learning can be supervised or unsupervised  \n"
     ]
    }
   ],
   "source": [
    "import re\n",
    "text_new=re.sub(r'[^\\w]',' ', text)\n",
    "print(text_new)\n"
   ]
  },
  {
   "cell_type": "markdown",
   "metadata": {},
   "source": [
    "## Convert all to lower case "
   ]
  },
  {
   "cell_type": "code",
   "execution_count": 13,
   "metadata": {},
   "outputs": [
    {
     "name": "stdout",
     "output_type": "stream",
     "text": [
      "machine learning is a technique of parsing data  learn from that data and then  apply what is learned to make an informed decision  machine learning focuses on  designing algorithms that can learn from and make predictions on the data   the learning can be supervised or unsupervised  \n",
      "Counter({'learning': 3, 'data': 3, 'machine': 2, 'is': 2, 'learn': 2, 'from': 2, 'that': 2, 'and': 2, 'make': 2, 'on': 2, 'can': 2, 'the': 2, 'a': 1, 'technique': 1, 'of': 1, 'parsing': 1, 'then': 1, 'apply': 1, 'what': 1, 'learned': 1, 'to': 1, 'an': 1, 'informed': 1, 'decision': 1, 'focuses': 1, 'designing': 1, 'algorithms': 1, 'predictions': 1, 'be': 1, 'supervised': 1, 'or': 1, 'unsupervised': 1})\n",
      "\n",
      "[('learning', 3), ('data', 3), ('machine', 2), ('is', 2), ('learn', 2), ('from', 2), ('that', 2), ('and', 2), ('make', 2), ('on', 2)]\n"
     ]
    }
   ],
   "source": [
    "text_new=text_new.lower()\n",
    "print(text_new)\n",
    "\n",
    "words=text_new.split()\n",
    "wc=cl.Counter(words)\n",
    "print(wc)\n",
    "print()\n",
    "#getting the most common words\n",
    "print(wc.most_common(10))"
   ]
  },
  {
   "cell_type": "markdown",
   "metadata": {},
   "source": [
    "## Removing StopWords using NLTK Library"
   ]
  },
  {
   "cell_type": "code",
   "execution_count": 18,
   "metadata": {},
   "outputs": [
    {
     "name": "stdout",
     "output_type": "stream",
     "text": [
      "['i', 'me', 'my', 'myself', 'we', 'our', 'ours', 'ourselves', 'you', \"you're\", \"you've\", \"you'll\", \"you'd\", 'your', 'yours', 'yourself', 'yourselves', 'he', 'him', 'his', 'himself', 'she', \"she's\", 'her', 'hers', 'herself', 'it', \"it's\", 'its', 'itself', 'they', 'them', 'their', 'theirs', 'themselves', 'what', 'which', 'who', 'whom', 'this', 'that', \"that'll\", 'these', 'those', 'am', 'is', 'are', 'was', 'were', 'be', 'been', 'being', 'have', 'has', 'had', 'having', 'do', 'does', 'did', 'doing', 'a', 'an', 'the', 'and', 'but', 'if', 'or', 'because', 'as', 'until', 'while', 'of', 'at', 'by', 'for', 'with', 'about', 'against', 'between', 'into', 'through', 'during', 'before', 'after', 'above', 'below', 'to', 'from', 'up', 'down', 'in', 'out', 'on', 'off', 'over', 'under', 'again', 'further', 'then', 'once', 'here', 'there', 'when', 'where', 'why', 'how', 'all', 'any', 'both', 'each', 'few', 'more', 'most', 'other', 'some', 'such', 'no', 'nor', 'not', 'only', 'own', 'same', 'so', 'than', 'too', 'very', 's', 't', 'can', 'will', 'just', 'don', \"don't\", 'should', \"should've\", 'now', 'd', 'll', 'm', 'o', 're', 've', 'y', 'ain', 'aren', \"aren't\", 'couldn', \"couldn't\", 'didn', \"didn't\", 'doesn', \"doesn't\", 'hadn', \"hadn't\", 'hasn', \"hasn't\", 'haven', \"haven't\", 'isn', \"isn't\", 'ma', 'mightn', \"mightn't\", 'mustn', \"mustn't\", 'needn', \"needn't\", 'shan', \"shan't\", 'shouldn', \"shouldn't\", 'wasn', \"wasn't\", 'weren', \"weren't\", 'won', \"won't\", 'wouldn', \"wouldn't\"]\n"
     ]
    }
   ],
   "source": [
    "#import nltk\n",
    "#nltk.download('stopwords')\n",
    "from nltk.corpus import stopwords\n",
    "#getting all the stopwords in english\n",
    "stop_words=stopwords.words('english')\n",
    "print(stop_words)"
   ]
  },
  {
   "cell_type": "code",
   "execution_count": 21,
   "metadata": {},
   "outputs": [
    {
     "name": "stdout",
     "output_type": "stream",
     "text": [
      "['machine', 'learning', 'technique', 'parsing', 'data', 'learn', 'data', 'apply', 'learned', 'make', 'informed', 'decision', 'machine', 'learning', 'focuses', 'designing', 'algorithms', 'learn', 'make', 'predictions', 'data', 'learning', 'supervised', 'unsupervised']\n",
      "Counter({'learning': 3, 'data': 3, 'machine': 2, 'learn': 2, 'make': 2, 'technique': 1, 'parsing': 1, 'apply': 1, 'learned': 1, 'informed': 1, 'decision': 1, 'focuses': 1, 'designing': 1, 'algorithms': 1, 'predictions': 1, 'supervised': 1, 'unsupervised': 1})\n",
      "[('learning', 3), ('data', 3), ('machine', 2), ('learn', 2), ('make', 2), ('technique', 1), ('parsing', 1), ('apply', 1), ('learned', 1), ('informed', 1)]\n"
     ]
    }
   ],
   "source": [
    "words=text_new.split()\n",
    "words_no_stop=[]\n",
    "for word in words:\n",
    "    if word not in stop_words:\n",
    "        words_no_stop.append(word)\n",
    "print(words_no_stop)\n",
    "\n",
    "wc=cl.Counter(words_no_stop)\n",
    "print(wc)\n",
    "\n",
    "print(wc.most_common(10))"
   ]
  },
  {
   "cell_type": "markdown",
   "metadata": {},
   "source": [
    "## Stemming"
   ]
  },
  {
   "cell_type": "code",
   "execution_count": 28,
   "metadata": {},
   "outputs": [
    {
     "name": "stdout",
     "output_type": "stream",
     "text": [
      "['machin', 'learn', 'techniqu', 'pars', 'data', 'learn', 'data', 'appli', 'learn', 'make', 'inform', 'decis', 'machin', 'learn', 'focus', 'design', 'algorithm', 'learn', 'make', 'predict', 'data', 'learn', 'supervis', 'unsupervis']\n",
      "Word Count\n",
      "Counter({'learn': 6, 'data': 3, 'machin': 2, 'make': 2, 'techniqu': 1, 'pars': 1, 'appli': 1, 'inform': 1, 'decis': 1, 'focus': 1, 'design': 1, 'algorithm': 1, 'predict': 1, 'supervis': 1, 'unsupervis': 1})\n",
      "Most Commmon Word\n",
      "[('learn', 6), ('data', 3), ('machin', 2), ('make', 2), ('techniqu', 1), ('pars', 1), ('appli', 1), ('inform', 1), ('decis', 1), ('focus', 1), ('design', 1), ('algorithm', 1), ('predict', 1), ('supervis', 1), ('unsupervis', 1)]\n"
     ]
    }
   ],
   "source": [
    "from nltk.stem import PorterStemmer\n",
    "ps=PorterStemmer()\n",
    "words_clean=[]\n",
    "for word in words_no_stop:\n",
    "    words_clean.append(ps.stem(word))\n",
    "    \n",
    "print(words_clean)\n",
    "print(\"Word Count\")\n",
    "wc=cl.Counter(words_clean)\n",
    "print(wc)\n",
    "print(\"Most Commmon Word\")\n",
    "print(wc.most_common())"
   ]
  },
  {
   "cell_type": "markdown",
   "metadata": {},
   "source": [
    "# Bag of Words"
   ]
  },
  {
   "cell_type": "markdown",
   "metadata": {},
   "source": [
    "## DTM(Document Term Matrix)\n",
    " Using CountVectorizer we dont have to do all the above steps .CountVectorizer do everything except Stemming."
   ]
  },
  {
   "cell_type": "code",
   "execution_count": 31,
   "metadata": {},
   "outputs": [],
   "source": [
    "from sklearn.feature_extraction.text import CountVectorizer\n",
    "training_text=[\"\"\"Machine Learning is a technique of parsing data, learn from that data and then \n",
    "        apply what is learned to make an informed decision. Machine learning focuses on \n",
    "        designing algorithms that can learn from and make predictions on the data. \n",
    "        The learning can be supervised or unsupervised.\"\"\",\n",
    "        \"\"\"A special school is a school catering for students who have special educational needs \n",
    "        due to learning difficulties, physical disabilities or behavioral problems. Special \n",
    "        schools may be specifically designed, staffed and resourced to provide appropriate \n",
    "        special education for children with additional needs.\n",
    "        \"\"\"]\n",
    "testing_text=[\"Machine learning has supervised and unsupervised learning.\",\n",
    "               \"Special education is important because children with special needs have equal rights to education.\"]\n",
    "cv=CountVectorizer(stop_words='english')\n",
    "\n"
   ]
  },
  {
   "cell_type": "code",
   "execution_count": 34,
   "metadata": {},
   "outputs": [
    {
     "data": {
      "text/plain": [
       "CountVectorizer(analyzer='word', binary=False, decode_error='strict',\n",
       "        dtype=<class 'numpy.int64'>, encoding='utf-8', input='content',\n",
       "        lowercase=True, max_df=1.0, max_features=None, min_df=1,\n",
       "        ngram_range=(1, 1), preprocessor=None, stop_words='english',\n",
       "        strip_accents=None, token_pattern='(?u)\\\\b\\\\w\\\\w+\\\\b',\n",
       "        tokenizer=None, vocabulary=None)"
      ]
     },
     "execution_count": 34,
     "metadata": {},
     "output_type": "execute_result"
    }
   ],
   "source": [
    "cv.fit_transform(training_text)\n",
    "cv.fit(testing_text)"
   ]
  },
  {
   "cell_type": "code",
   "execution_count": 35,
   "metadata": {},
   "outputs": [],
   "source": [
    "training_dtm=cv.transform(training_text)\n",
    "testing_dtm=cv.transform(testing_text)"
   ]
  },
  {
   "cell_type": "code",
   "execution_count": 38,
   "metadata": {},
   "outputs": [
    {
     "data": {
      "text/plain": [
       "((2, 11), (2, 11))"
      ]
     },
     "execution_count": 38,
     "metadata": {},
     "output_type": "execute_result"
    }
   ],
   "source": [
    "training_dtm.shape,testing_dtm.shape"
   ]
  },
  {
   "cell_type": "code",
   "execution_count": 43,
   "metadata": {},
   "outputs": [
    {
     "name": "stdout",
     "output_type": "stream",
     "text": [
      "['children', 'education', 'equal', 'important', 'learning', 'machine', 'needs', 'rights', 'special', 'supervised', 'unsupervised']\n"
     ]
    }
   ],
   "source": [
    "Tokens=cv.get_feature_names()\n",
    "print(Tokens)"
   ]
  },
  {
   "cell_type": "code",
   "execution_count": 58,
   "metadata": {},
   "outputs": [
    {
     "data": {
      "text/html": [
       "<div>\n",
       "<style scoped>\n",
       "    .dataframe tbody tr th:only-of-type {\n",
       "        vertical-align: middle;\n",
       "    }\n",
       "\n",
       "    .dataframe tbody tr th {\n",
       "        vertical-align: top;\n",
       "    }\n",
       "\n",
       "    .dataframe thead th {\n",
       "        text-align: right;\n",
       "    }\n",
       "</style>\n",
       "<table border=\"1\" class=\"dataframe\">\n",
       "  <thead>\n",
       "    <tr style=\"text-align: right;\">\n",
       "      <th></th>\n",
       "      <th>children</th>\n",
       "      <th>education</th>\n",
       "      <th>equal</th>\n",
       "      <th>important</th>\n",
       "      <th>learning</th>\n",
       "      <th>machine</th>\n",
       "      <th>needs</th>\n",
       "      <th>rights</th>\n",
       "      <th>special</th>\n",
       "      <th>supervised</th>\n",
       "      <th>unsupervised</th>\n",
       "    </tr>\n",
       "  </thead>\n",
       "  <tbody>\n",
       "    <tr>\n",
       "      <th>0</th>\n",
       "      <td>0</td>\n",
       "      <td>0</td>\n",
       "      <td>0</td>\n",
       "      <td>0</td>\n",
       "      <td>3</td>\n",
       "      <td>2</td>\n",
       "      <td>0</td>\n",
       "      <td>0</td>\n",
       "      <td>0</td>\n",
       "      <td>1</td>\n",
       "      <td>1</td>\n",
       "    </tr>\n",
       "    <tr>\n",
       "      <th>1</th>\n",
       "      <td>1</td>\n",
       "      <td>1</td>\n",
       "      <td>0</td>\n",
       "      <td>0</td>\n",
       "      <td>1</td>\n",
       "      <td>0</td>\n",
       "      <td>2</td>\n",
       "      <td>0</td>\n",
       "      <td>4</td>\n",
       "      <td>0</td>\n",
       "      <td>0</td>\n",
       "    </tr>\n",
       "  </tbody>\n",
       "</table>\n",
       "</div>"
      ],
      "text/plain": [
       "   children  education  equal  important  learning  machine  needs  rights  \\\n",
       "0         0          0      0          0         3        2      0       0   \n",
       "1         1          1      0          0         1        0      2       0   \n",
       "\n",
       "   special  supervised  unsupervised  \n",
       "0        0           1             1  \n",
       "1        4           0             0  "
      ]
     },
     "execution_count": 58,
     "metadata": {},
     "output_type": "execute_result"
    }
   ],
   "source": [
    "#Training \n",
    "training_data=training_dtm.todense().tolist()\n",
    "training_df=pd.DataFrame(training_data,columns=cv.get_feature_names())\n",
    "training_df"
   ]
  },
  {
   "cell_type": "code",
   "execution_count": 59,
   "metadata": {},
   "outputs": [
    {
     "data": {
      "text/html": [
       "<div>\n",
       "<style scoped>\n",
       "    .dataframe tbody tr th:only-of-type {\n",
       "        vertical-align: middle;\n",
       "    }\n",
       "\n",
       "    .dataframe tbody tr th {\n",
       "        vertical-align: top;\n",
       "    }\n",
       "\n",
       "    .dataframe thead th {\n",
       "        text-align: right;\n",
       "    }\n",
       "</style>\n",
       "<table border=\"1\" class=\"dataframe\">\n",
       "  <thead>\n",
       "    <tr style=\"text-align: right;\">\n",
       "      <th></th>\n",
       "      <th>children</th>\n",
       "      <th>education</th>\n",
       "      <th>equal</th>\n",
       "      <th>important</th>\n",
       "      <th>learning</th>\n",
       "      <th>machine</th>\n",
       "      <th>needs</th>\n",
       "      <th>rights</th>\n",
       "      <th>special</th>\n",
       "      <th>supervised</th>\n",
       "      <th>unsupervised</th>\n",
       "    </tr>\n",
       "  </thead>\n",
       "  <tbody>\n",
       "    <tr>\n",
       "      <th>0</th>\n",
       "      <td>0</td>\n",
       "      <td>0</td>\n",
       "      <td>0</td>\n",
       "      <td>0</td>\n",
       "      <td>2</td>\n",
       "      <td>1</td>\n",
       "      <td>0</td>\n",
       "      <td>0</td>\n",
       "      <td>0</td>\n",
       "      <td>1</td>\n",
       "      <td>1</td>\n",
       "    </tr>\n",
       "    <tr>\n",
       "      <th>1</th>\n",
       "      <td>1</td>\n",
       "      <td>2</td>\n",
       "      <td>1</td>\n",
       "      <td>1</td>\n",
       "      <td>0</td>\n",
       "      <td>0</td>\n",
       "      <td>1</td>\n",
       "      <td>1</td>\n",
       "      <td>2</td>\n",
       "      <td>0</td>\n",
       "      <td>0</td>\n",
       "    </tr>\n",
       "  </tbody>\n",
       "</table>\n",
       "</div>"
      ],
      "text/plain": [
       "   children  education  equal  important  learning  machine  needs  rights  \\\n",
       "0         0          0      0          0         2        1      0       0   \n",
       "1         1          2      1          1         0        0      1       1   \n",
       "\n",
       "   special  supervised  unsupervised  \n",
       "0        0           1             1  \n",
       "1        2           0             0  "
      ]
     },
     "execution_count": 59,
     "metadata": {},
     "output_type": "execute_result"
    }
   ],
   "source": [
    "#Testing\n",
    "testing_data=testing_dtm.todense().tolist()\n",
    "testing_df=pd.DataFrame(testing_data,columns=cv.get_feature_names())\n",
    "testing_df"
   ]
  },
  {
   "cell_type": "markdown",
   "metadata": {},
   "source": [
    "But the problem with DTM is ,it is showing same numbers for different columns .So its difficult to determine the classification poer of each words. "
   ]
  },
  {
   "cell_type": "markdown",
   "metadata": {},
   "source": [
    "# TF-IDF (Text Frequency Inverse Document Frequency)"
   ]
  },
  {
   "cell_type": "code",
   "execution_count": 49,
   "metadata": {},
   "outputs": [],
   "source": [
    "from sklearn.feature_extraction.text import TfidfVectorizer\n",
    "tf_cv=TfidfVectorizer(stop_words='english')\n"
   ]
  },
  {
   "cell_type": "code",
   "execution_count": 50,
   "metadata": {},
   "outputs": [],
   "source": [
    "#Creating the dtm \n",
    "training_dtm_tf=tf_cv.fit_transform(training_text)\n",
    "testing_dtm_tf=tf_cv.fit(training_text)"
   ]
  },
  {
   "cell_type": "code",
   "execution_count": 56,
   "metadata": {},
   "outputs": [
    {
     "data": {
      "text/html": [
       "<div>\n",
       "<style scoped>\n",
       "    .dataframe tbody tr th:only-of-type {\n",
       "        vertical-align: middle;\n",
       "    }\n",
       "\n",
       "    .dataframe tbody tr th {\n",
       "        vertical-align: top;\n",
       "    }\n",
       "\n",
       "    .dataframe thead th {\n",
       "        text-align: right;\n",
       "    }\n",
       "</style>\n",
       "<table border=\"1\" class=\"dataframe\">\n",
       "  <thead>\n",
       "    <tr style=\"text-align: right;\">\n",
       "      <th></th>\n",
       "      <th>additional</th>\n",
       "      <th>algorithms</th>\n",
       "      <th>apply</th>\n",
       "      <th>appropriate</th>\n",
       "      <th>behavioral</th>\n",
       "      <th>catering</th>\n",
       "      <th>children</th>\n",
       "      <th>data</th>\n",
       "      <th>decision</th>\n",
       "      <th>designed</th>\n",
       "      <th>designing</th>\n",
       "      <th>difficulties</th>\n",
       "      <th>disabilities</th>\n",
       "      <th>education</th>\n",
       "      <th>educational</th>\n",
       "      <th>focuses</th>\n",
       "      <th>informed</th>\n",
       "      <th>learn</th>\n",
       "      <th>learned</th>\n",
       "      <th>learning</th>\n",
       "      <th>machine</th>\n",
       "      <th>make</th>\n",
       "      <th>needs</th>\n",
       "      <th>parsing</th>\n",
       "      <th>physical</th>\n",
       "      <th>predictions</th>\n",
       "      <th>problems</th>\n",
       "      <th>provide</th>\n",
       "      <th>resourced</th>\n",
       "      <th>school</th>\n",
       "      <th>schools</th>\n",
       "      <th>special</th>\n",
       "      <th>specifically</th>\n",
       "      <th>staffed</th>\n",
       "      <th>students</th>\n",
       "      <th>supervised</th>\n",
       "      <th>technique</th>\n",
       "      <th>unsupervised</th>\n",
       "    </tr>\n",
       "  </thead>\n",
       "  <tbody>\n",
       "    <tr>\n",
       "      <th>0</th>\n",
       "      <td>0.000000</td>\n",
       "      <td>0.163177</td>\n",
       "      <td>0.163177</td>\n",
       "      <td>0.000000</td>\n",
       "      <td>0.000000</td>\n",
       "      <td>0.000000</td>\n",
       "      <td>0.000000</td>\n",
       "      <td>0.489531</td>\n",
       "      <td>0.163177</td>\n",
       "      <td>0.000000</td>\n",
       "      <td>0.163177</td>\n",
       "      <td>0.000000</td>\n",
       "      <td>0.000000</td>\n",
       "      <td>0.000000</td>\n",
       "      <td>0.000000</td>\n",
       "      <td>0.163177</td>\n",
       "      <td>0.163177</td>\n",
       "      <td>0.326354</td>\n",
       "      <td>0.163177</td>\n",
       "      <td>0.348306</td>\n",
       "      <td>0.326354</td>\n",
       "      <td>0.326354</td>\n",
       "      <td>0.000000</td>\n",
       "      <td>0.163177</td>\n",
       "      <td>0.000000</td>\n",
       "      <td>0.163177</td>\n",
       "      <td>0.000000</td>\n",
       "      <td>0.000000</td>\n",
       "      <td>0.000000</td>\n",
       "      <td>0.000000</td>\n",
       "      <td>0.000000</td>\n",
       "      <td>0.000000</td>\n",
       "      <td>0.000000</td>\n",
       "      <td>0.000000</td>\n",
       "      <td>0.000000</td>\n",
       "      <td>0.163177</td>\n",
       "      <td>0.163177</td>\n",
       "      <td>0.163177</td>\n",
       "    </tr>\n",
       "    <tr>\n",
       "      <th>1</th>\n",
       "      <td>0.153382</td>\n",
       "      <td>0.000000</td>\n",
       "      <td>0.000000</td>\n",
       "      <td>0.153382</td>\n",
       "      <td>0.153382</td>\n",
       "      <td>0.153382</td>\n",
       "      <td>0.153382</td>\n",
       "      <td>0.000000</td>\n",
       "      <td>0.000000</td>\n",
       "      <td>0.153382</td>\n",
       "      <td>0.000000</td>\n",
       "      <td>0.153382</td>\n",
       "      <td>0.153382</td>\n",
       "      <td>0.153382</td>\n",
       "      <td>0.153382</td>\n",
       "      <td>0.000000</td>\n",
       "      <td>0.000000</td>\n",
       "      <td>0.000000</td>\n",
       "      <td>0.000000</td>\n",
       "      <td>0.109132</td>\n",
       "      <td>0.000000</td>\n",
       "      <td>0.000000</td>\n",
       "      <td>0.306763</td>\n",
       "      <td>0.000000</td>\n",
       "      <td>0.153382</td>\n",
       "      <td>0.000000</td>\n",
       "      <td>0.153382</td>\n",
       "      <td>0.153382</td>\n",
       "      <td>0.153382</td>\n",
       "      <td>0.306763</td>\n",
       "      <td>0.153382</td>\n",
       "      <td>0.613527</td>\n",
       "      <td>0.153382</td>\n",
       "      <td>0.153382</td>\n",
       "      <td>0.153382</td>\n",
       "      <td>0.000000</td>\n",
       "      <td>0.000000</td>\n",
       "      <td>0.000000</td>\n",
       "    </tr>\n",
       "  </tbody>\n",
       "</table>\n",
       "</div>"
      ],
      "text/plain": [
       "   additional  algorithms     apply  appropriate  behavioral  catering  \\\n",
       "0    0.000000    0.163177  0.163177     0.000000    0.000000  0.000000   \n",
       "1    0.153382    0.000000  0.000000     0.153382    0.153382  0.153382   \n",
       "\n",
       "   children      data  decision  designed  designing  difficulties  \\\n",
       "0  0.000000  0.489531  0.163177  0.000000   0.163177      0.000000   \n",
       "1  0.153382  0.000000  0.000000  0.153382   0.000000      0.153382   \n",
       "\n",
       "   disabilities  education  educational   focuses  informed     learn  \\\n",
       "0      0.000000   0.000000     0.000000  0.163177  0.163177  0.326354   \n",
       "1      0.153382   0.153382     0.153382  0.000000  0.000000  0.000000   \n",
       "\n",
       "    learned  learning   machine      make     needs   parsing  physical  \\\n",
       "0  0.163177  0.348306  0.326354  0.326354  0.000000  0.163177  0.000000   \n",
       "1  0.000000  0.109132  0.000000  0.000000  0.306763  0.000000  0.153382   \n",
       "\n",
       "   predictions  problems   provide  resourced    school   schools   special  \\\n",
       "0     0.163177  0.000000  0.000000   0.000000  0.000000  0.000000  0.000000   \n",
       "1     0.000000  0.153382  0.153382   0.153382  0.306763  0.153382  0.613527   \n",
       "\n",
       "   specifically   staffed  students  supervised  technique  unsupervised  \n",
       "0      0.000000  0.000000  0.000000    0.163177   0.163177      0.163177  \n",
       "1      0.153382  0.153382  0.153382    0.000000   0.000000      0.000000  "
      ]
     },
     "execution_count": 56,
     "metadata": {},
     "output_type": "execute_result"
    }
   ],
   "source": [
    "training_data_tf=training_dtm_tf.todense().tolist()\n",
    "training_tf_df=pd.DataFrame(training_data_tf,columns=tf_cv.get_feature_names())\n",
    "training_tf_df"
   ]
  },
  {
   "cell_type": "code",
   "execution_count": 57,
   "metadata": {},
   "outputs": [
    {
     "data": {
      "text/html": [
       "<div>\n",
       "<style scoped>\n",
       "    .dataframe tbody tr th:only-of-type {\n",
       "        vertical-align: middle;\n",
       "    }\n",
       "\n",
       "    .dataframe tbody tr th {\n",
       "        vertical-align: top;\n",
       "    }\n",
       "\n",
       "    .dataframe thead th {\n",
       "        text-align: right;\n",
       "    }\n",
       "</style>\n",
       "<table border=\"1\" class=\"dataframe\">\n",
       "  <thead>\n",
       "    <tr style=\"text-align: right;\">\n",
       "      <th></th>\n",
       "      <th>additional</th>\n",
       "      <th>algorithms</th>\n",
       "      <th>apply</th>\n",
       "      <th>appropriate</th>\n",
       "      <th>behavioral</th>\n",
       "      <th>catering</th>\n",
       "      <th>children</th>\n",
       "      <th>data</th>\n",
       "      <th>decision</th>\n",
       "      <th>designed</th>\n",
       "      <th>designing</th>\n",
       "      <th>difficulties</th>\n",
       "      <th>disabilities</th>\n",
       "      <th>education</th>\n",
       "      <th>educational</th>\n",
       "      <th>focuses</th>\n",
       "      <th>informed</th>\n",
       "      <th>learn</th>\n",
       "      <th>learned</th>\n",
       "      <th>learning</th>\n",
       "      <th>machine</th>\n",
       "      <th>make</th>\n",
       "      <th>needs</th>\n",
       "      <th>parsing</th>\n",
       "      <th>physical</th>\n",
       "      <th>predictions</th>\n",
       "      <th>problems</th>\n",
       "      <th>provide</th>\n",
       "      <th>resourced</th>\n",
       "      <th>school</th>\n",
       "      <th>schools</th>\n",
       "      <th>special</th>\n",
       "      <th>specifically</th>\n",
       "      <th>staffed</th>\n",
       "      <th>students</th>\n",
       "      <th>supervised</th>\n",
       "      <th>technique</th>\n",
       "      <th>unsupervised</th>\n",
       "    </tr>\n",
       "  </thead>\n",
       "  <tbody>\n",
       "    <tr>\n",
       "      <th>0</th>\n",
       "      <td>0.000000</td>\n",
       "      <td>0.163177</td>\n",
       "      <td>0.163177</td>\n",
       "      <td>0.000000</td>\n",
       "      <td>0.000000</td>\n",
       "      <td>0.000000</td>\n",
       "      <td>0.000000</td>\n",
       "      <td>0.489531</td>\n",
       "      <td>0.163177</td>\n",
       "      <td>0.000000</td>\n",
       "      <td>0.163177</td>\n",
       "      <td>0.000000</td>\n",
       "      <td>0.000000</td>\n",
       "      <td>0.000000</td>\n",
       "      <td>0.000000</td>\n",
       "      <td>0.163177</td>\n",
       "      <td>0.163177</td>\n",
       "      <td>0.326354</td>\n",
       "      <td>0.163177</td>\n",
       "      <td>0.348306</td>\n",
       "      <td>0.326354</td>\n",
       "      <td>0.326354</td>\n",
       "      <td>0.000000</td>\n",
       "      <td>0.163177</td>\n",
       "      <td>0.000000</td>\n",
       "      <td>0.163177</td>\n",
       "      <td>0.000000</td>\n",
       "      <td>0.000000</td>\n",
       "      <td>0.000000</td>\n",
       "      <td>0.000000</td>\n",
       "      <td>0.000000</td>\n",
       "      <td>0.000000</td>\n",
       "      <td>0.000000</td>\n",
       "      <td>0.000000</td>\n",
       "      <td>0.000000</td>\n",
       "      <td>0.163177</td>\n",
       "      <td>0.163177</td>\n",
       "      <td>0.163177</td>\n",
       "    </tr>\n",
       "    <tr>\n",
       "      <th>1</th>\n",
       "      <td>0.153382</td>\n",
       "      <td>0.000000</td>\n",
       "      <td>0.000000</td>\n",
       "      <td>0.153382</td>\n",
       "      <td>0.153382</td>\n",
       "      <td>0.153382</td>\n",
       "      <td>0.153382</td>\n",
       "      <td>0.000000</td>\n",
       "      <td>0.000000</td>\n",
       "      <td>0.153382</td>\n",
       "      <td>0.000000</td>\n",
       "      <td>0.153382</td>\n",
       "      <td>0.153382</td>\n",
       "      <td>0.153382</td>\n",
       "      <td>0.153382</td>\n",
       "      <td>0.000000</td>\n",
       "      <td>0.000000</td>\n",
       "      <td>0.000000</td>\n",
       "      <td>0.000000</td>\n",
       "      <td>0.109132</td>\n",
       "      <td>0.000000</td>\n",
       "      <td>0.000000</td>\n",
       "      <td>0.306763</td>\n",
       "      <td>0.000000</td>\n",
       "      <td>0.153382</td>\n",
       "      <td>0.000000</td>\n",
       "      <td>0.153382</td>\n",
       "      <td>0.153382</td>\n",
       "      <td>0.153382</td>\n",
       "      <td>0.306763</td>\n",
       "      <td>0.153382</td>\n",
       "      <td>0.613527</td>\n",
       "      <td>0.153382</td>\n",
       "      <td>0.153382</td>\n",
       "      <td>0.153382</td>\n",
       "      <td>0.000000</td>\n",
       "      <td>0.000000</td>\n",
       "      <td>0.000000</td>\n",
       "    </tr>\n",
       "  </tbody>\n",
       "</table>\n",
       "</div>"
      ],
      "text/plain": [
       "   additional  algorithms     apply  appropriate  behavioral  catering  \\\n",
       "0    0.000000    0.163177  0.163177     0.000000    0.000000  0.000000   \n",
       "1    0.153382    0.000000  0.000000     0.153382    0.153382  0.153382   \n",
       "\n",
       "   children      data  decision  designed  designing  difficulties  \\\n",
       "0  0.000000  0.489531  0.163177  0.000000   0.163177      0.000000   \n",
       "1  0.153382  0.000000  0.000000  0.153382   0.000000      0.153382   \n",
       "\n",
       "   disabilities  education  educational   focuses  informed     learn  \\\n",
       "0      0.000000   0.000000     0.000000  0.163177  0.163177  0.326354   \n",
       "1      0.153382   0.153382     0.153382  0.000000  0.000000  0.000000   \n",
       "\n",
       "    learned  learning   machine      make     needs   parsing  physical  \\\n",
       "0  0.163177  0.348306  0.326354  0.326354  0.000000  0.163177  0.000000   \n",
       "1  0.000000  0.109132  0.000000  0.000000  0.306763  0.000000  0.153382   \n",
       "\n",
       "   predictions  problems   provide  resourced    school   schools   special  \\\n",
       "0     0.163177  0.000000  0.000000   0.000000  0.000000  0.000000  0.000000   \n",
       "1     0.000000  0.153382  0.153382   0.153382  0.306763  0.153382  0.613527   \n",
       "\n",
       "   specifically   staffed  students  supervised  technique  unsupervised  \n",
       "0      0.000000  0.000000  0.000000    0.163177   0.163177      0.163177  \n",
       "1      0.153382  0.153382  0.153382    0.000000   0.000000      0.000000  "
      ]
     },
     "execution_count": 57,
     "metadata": {},
     "output_type": "execute_result"
    }
   ],
   "source": [
    "testing_data_tf=training_dtm_tf.todense().tolist()\n",
    "testing_tf_df=pd.DataFrame(testing_data_tf,columns=tf_cv.get_feature_names())\n",
    "testing_tf_df"
   ]
  }
 ],
 "metadata": {
  "kernelspec": {
   "display_name": "Python 3",
   "language": "python",
   "name": "python3"
  },
  "language_info": {
   "codemirror_mode": {
    "name": "ipython",
    "version": 3
   },
   "file_extension": ".py",
   "mimetype": "text/x-python",
   "name": "python",
   "nbconvert_exporter": "python",
   "pygments_lexer": "ipython3",
   "version": "3.7.1"
  }
 },
 "nbformat": 4,
 "nbformat_minor": 2
}
